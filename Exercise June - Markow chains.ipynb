{
 "cells": [
  {
   "cell_type": "markdown",
   "id": "92696957-c62f-4fbe-8fe7-c618703e61ba",
   "metadata": {},
   "source": [
    "# **Markow chains**\n",
    "\n",
    "## Juan Diego Tabares\n",
    "\n",
    "## June 2024\n",
    "\n"
   ]
  },
  {
   "cell_type": "markdown",
   "id": "f37bf3ca-b6bb-406f-b9ae-ea81e6e432fc",
   "metadata": {},
   "source": [
    "In this exercise we develop a trading strategy based on a Markow chains approach. For this purpose, we will use three financial assets:\n",
    "\n",
    "- An index following the S&P500 as a traditional investment carrier. In this case we use the ETF SPY.\n",
    "- A pair of exchange currencies as a second traditional investment carrier. We will use the pair Euro-US dollar.\n",
    "- An alternative investment asset. We use Bitcoin to include a volatile, non-traditional, asset.  \n",
    "\n",
    "We will estimate the probability of the changing state (up or down) of the price in the next period based on its current changing state.\n",
    "\n",
    "$$\n",
    "  P(up|up)=a \n",
    "$$ \n",
    "$$ \n",
    "  P(down|up)=1-a\n",
    "$$ \n",
    "$$\n",
    "  P(up|down)=b \n",
    "$$ \n",
    "$$ \n",
    "  P(down|down)=1-b\n",
    "$$ "
   ]
  },
  {
   "cell_type": "code",
   "execution_count": 1,
   "id": "c8fba7c8-38a5-47cf-a257-17174f9bd5ca",
   "metadata": {},
   "outputs": [],
   "source": [
    "# Libraries\n",
    "\n",
    "import numpy as np\n",
    "import pandas as pd\n",
    "import yfinance as yf\n",
    "import tools_kit as kit\n",
    "import matplotlib.pyplot as plt\n",
    "import warnings "
   ]
  },
  {
   "cell_type": "code",
   "execution_count": 2,
   "id": "0aa007cf-d26c-47f5-8f43-b3c649593067",
   "metadata": {},
   "outputs": [],
   "source": [
    "# Settings the warnings to be ignored \n",
    "\n",
    "warnings.filterwarnings('ignore') "
   ]
  },
  {
   "cell_type": "code",
   "execution_count": 3,
   "id": "f0a10d06-dc5c-4f1c-b619-a42595fdb043",
   "metadata": {},
   "outputs": [],
   "source": [
    "tickers = ['SPY', 'BTC-USD', 'EURUSD=X']"
   ]
  },
  {
   "cell_type": "code",
   "execution_count": 4,
   "id": "94d08a05-b40b-49a0-813e-43b86f66c266",
   "metadata": {},
   "outputs": [
    {
     "name": "stdout",
     "output_type": "stream",
     "text": [
      "[*********************100%***********************]  3 of 3 completed\n"
     ]
    }
   ],
   "source": [
    "# We get the data using my own library (tools_kit). In previous exercises it is explained how we use this.\n",
    "\n",
    "data_prices = kit.get_price(tickers, '2004-01-01', '2024-06-15')"
   ]
  },
  {
   "cell_type": "code",
   "execution_count": 5,
   "id": "fb5b6c9d-1da2-467e-9d6c-2298109c80e2",
   "metadata": {},
   "outputs": [
    {
     "data": {
      "text/html": [
       "<div>\n",
       "<style scoped>\n",
       "    .dataframe tbody tr th:only-of-type {\n",
       "        vertical-align: middle;\n",
       "    }\n",
       "\n",
       "    .dataframe tbody tr th {\n",
       "        vertical-align: top;\n",
       "    }\n",
       "\n",
       "    .dataframe thead th {\n",
       "        text-align: right;\n",
       "    }\n",
       "</style>\n",
       "<table border=\"1\" class=\"dataframe\">\n",
       "  <thead>\n",
       "    <tr style=\"text-align: right;\">\n",
       "      <th></th>\n",
       "      <th>BTC-USD</th>\n",
       "      <th>EURUSD=X</th>\n",
       "      <th>SPY</th>\n",
       "    </tr>\n",
       "    <tr>\n",
       "      <th>Date</th>\n",
       "      <th></th>\n",
       "      <th></th>\n",
       "      <th></th>\n",
       "    </tr>\n",
       "  </thead>\n",
       "  <tbody>\n",
       "    <tr>\n",
       "      <th>2004-01-01</th>\n",
       "      <td>NaN</td>\n",
       "      <td>1.258194</td>\n",
       "      <td>NaN</td>\n",
       "    </tr>\n",
       "    <tr>\n",
       "      <th>2004-01-02</th>\n",
       "      <td>NaN</td>\n",
       "      <td>1.258194</td>\n",
       "      <td>75.387589</td>\n",
       "    </tr>\n",
       "    <tr>\n",
       "      <th>2004-01-05</th>\n",
       "      <td>NaN</td>\n",
       "      <td>1.268698</td>\n",
       "      <td>76.207680</td>\n",
       "    </tr>\n",
       "    <tr>\n",
       "      <th>2004-01-06</th>\n",
       "      <td>NaN</td>\n",
       "      <td>1.272103</td>\n",
       "      <td>76.282227</td>\n",
       "    </tr>\n",
       "    <tr>\n",
       "      <th>2004-01-07</th>\n",
       "      <td>NaN</td>\n",
       "      <td>1.264095</td>\n",
       "      <td>76.539787</td>\n",
       "    </tr>\n",
       "    <tr>\n",
       "      <th>...</th>\n",
       "      <td>...</td>\n",
       "      <td>...</td>\n",
       "      <td>...</td>\n",
       "    </tr>\n",
       "    <tr>\n",
       "      <th>2024-06-10</th>\n",
       "      <td>69512.281250</td>\n",
       "      <td>1.077888</td>\n",
       "      <td>533.937439</td>\n",
       "    </tr>\n",
       "    <tr>\n",
       "      <th>2024-06-11</th>\n",
       "      <td>67332.031250</td>\n",
       "      <td>1.076426</td>\n",
       "      <td>535.223328</td>\n",
       "    </tr>\n",
       "    <tr>\n",
       "      <th>2024-06-12</th>\n",
       "      <td>68241.187500</td>\n",
       "      <td>1.074033</td>\n",
       "      <td>539.619141</td>\n",
       "    </tr>\n",
       "    <tr>\n",
       "      <th>2024-06-13</th>\n",
       "      <td>66756.398438</td>\n",
       "      <td>1.081315</td>\n",
       "      <td>540.705627</td>\n",
       "    </tr>\n",
       "    <tr>\n",
       "      <th>2024-06-14</th>\n",
       "      <td>66011.093750</td>\n",
       "      <td>1.073883</td>\n",
       "      <td>541.034607</td>\n",
       "    </tr>\n",
       "  </tbody>\n",
       "</table>\n",
       "<p>6353 rows × 3 columns</p>\n",
       "</div>"
      ],
      "text/plain": [
       "                 BTC-USD  EURUSD=X         SPY\n",
       "Date                                          \n",
       "2004-01-01           NaN  1.258194         NaN\n",
       "2004-01-02           NaN  1.258194   75.387589\n",
       "2004-01-05           NaN  1.268698   76.207680\n",
       "2004-01-06           NaN  1.272103   76.282227\n",
       "2004-01-07           NaN  1.264095   76.539787\n",
       "...                  ...       ...         ...\n",
       "2024-06-10  69512.281250  1.077888  533.937439\n",
       "2024-06-11  67332.031250  1.076426  535.223328\n",
       "2024-06-12  68241.187500  1.074033  539.619141\n",
       "2024-06-13  66756.398438  1.081315  540.705627\n",
       "2024-06-14  66011.093750  1.073883  541.034607\n",
       "\n",
       "[6353 rows x 3 columns]"
      ]
     },
     "execution_count": 5,
     "metadata": {},
     "output_type": "execute_result"
    }
   ],
   "source": [
    "data_prices"
   ]
  },
  {
   "cell_type": "code",
   "execution_count": 6,
   "id": "f1a8d4e7-0421-4249-ba9f-24a6fe2987c0",
   "metadata": {},
   "outputs": [],
   "source": [
    "# Function to prepare the data frame that we will use for the strqtegy. We apply the strategy separately for each asset.\n",
    "\n",
    "def df_Markov_chains(Ticker):\n",
    "    df_prices = pd.DataFrame(data_prices[Ticker])\n",
    "    df_prices['Weekday'] = df_prices.index.day_name()\n",
    "    df_prices['Daily_Diff']=df_prices[Ticker].diff()\n",
    "    df_prices['price_change'] = 0\n",
    "    df_prices['price_change'] = df_prices['Daily_Diff'].apply(lambda x: '1' if x > 0 else ('-1' if x < 0 else ''))\n",
    "    return df_prices"
   ]
  },
  {
   "cell_type": "code",
   "execution_count": 57,
   "id": "d0cc2227-fc27-4e8b-a6fc-8a4585e5c160",
   "metadata": {},
   "outputs": [],
   "source": [
    "# Function to define the state of the price en each period. We consider two states: up and down, considering the current price and the price\n",
    "## in the previous period. Nex to it, we create two columns indicating if the state change from up to dow, or from down to up.\n",
    "\n",
    "def states_fn(df):\n",
    "    states = df['price_change']\n",
    "    states.replace('', np.nan, inplace=True)\n",
    "    states =states.dropna()\n",
    "    states = pd.DataFrame(states)\n",
    "    # Create a shifted column to compare current state with the next state\n",
    "    states['next_state'] = states['price_change'].shift(-1)\n",
    "    # Create the 'count_1_to_minus1' column using vectorized operations\n",
    "    states['count_1_to_minus1'] = ((states['price_change'] == '1') & (states['next_state'] == '-1')).astype(int)\n",
    "    # Drop the helper 'next_state' column\n",
    "    states.drop(columns=['next_state'], inplace=True)\n",
    "    # Create a shifted column to compare current state with the next state\n",
    "    states['next_state'] = states['price_change'].shift(-1)\n",
    "    # Create the 'count_minus1_to_1' column using vectorized operations\n",
    "    states['count_minus1_to_1'] = ((states['price_change'] == '-1') & (states['next_state'] == '1')).astype(int)\n",
    "    # Drop the helper 'next_state' column\n",
    "    states.drop(columns=['next_state'], inplace=True)\n",
    "\n",
    "    return states"
   ]
  },
  {
   "cell_type": "markdown",
   "id": "c6af06b5-b873-42df-be19-1deea2cb8a83",
   "metadata": {},
   "source": [
    "## S&P500 exercise "
   ]
  },
  {
   "cell_type": "code",
   "execution_count": 8,
   "id": "b86bcb6d-b531-4f4d-9426-a93bca7fe6fa",
   "metadata": {},
   "outputs": [
    {
     "data": {
      "text/html": [
       "<div>\n",
       "<style scoped>\n",
       "    .dataframe tbody tr th:only-of-type {\n",
       "        vertical-align: middle;\n",
       "    }\n",
       "\n",
       "    .dataframe tbody tr th {\n",
       "        vertical-align: top;\n",
       "    }\n",
       "\n",
       "    .dataframe thead th {\n",
       "        text-align: right;\n",
       "    }\n",
       "</style>\n",
       "<table border=\"1\" class=\"dataframe\">\n",
       "  <thead>\n",
       "    <tr style=\"text-align: right;\">\n",
       "      <th></th>\n",
       "      <th>SPY</th>\n",
       "      <th>Weekday</th>\n",
       "      <th>Daily_Diff</th>\n",
       "      <th>price_change</th>\n",
       "    </tr>\n",
       "    <tr>\n",
       "      <th>Date</th>\n",
       "      <th></th>\n",
       "      <th></th>\n",
       "      <th></th>\n",
       "      <th></th>\n",
       "    </tr>\n",
       "  </thead>\n",
       "  <tbody>\n",
       "    <tr>\n",
       "      <th>2004-01-01</th>\n",
       "      <td>NaN</td>\n",
       "      <td>Thursday</td>\n",
       "      <td>NaN</td>\n",
       "      <td></td>\n",
       "    </tr>\n",
       "    <tr>\n",
       "      <th>2004-01-02</th>\n",
       "      <td>75.387589</td>\n",
       "      <td>Friday</td>\n",
       "      <td>NaN</td>\n",
       "      <td></td>\n",
       "    </tr>\n",
       "    <tr>\n",
       "      <th>2004-01-05</th>\n",
       "      <td>76.207680</td>\n",
       "      <td>Monday</td>\n",
       "      <td>0.820091</td>\n",
       "      <td>1</td>\n",
       "    </tr>\n",
       "    <tr>\n",
       "      <th>2004-01-06</th>\n",
       "      <td>76.282227</td>\n",
       "      <td>Tuesday</td>\n",
       "      <td>0.074547</td>\n",
       "      <td>1</td>\n",
       "    </tr>\n",
       "    <tr>\n",
       "      <th>2004-01-07</th>\n",
       "      <td>76.539787</td>\n",
       "      <td>Wednesday</td>\n",
       "      <td>0.257561</td>\n",
       "      <td>1</td>\n",
       "    </tr>\n",
       "    <tr>\n",
       "      <th>...</th>\n",
       "      <td>...</td>\n",
       "      <td>...</td>\n",
       "      <td>...</td>\n",
       "      <td>...</td>\n",
       "    </tr>\n",
       "    <tr>\n",
       "      <th>2024-06-10</th>\n",
       "      <td>533.937439</td>\n",
       "      <td>Monday</td>\n",
       "      <td>NaN</td>\n",
       "      <td></td>\n",
       "    </tr>\n",
       "    <tr>\n",
       "      <th>2024-06-11</th>\n",
       "      <td>535.223328</td>\n",
       "      <td>Tuesday</td>\n",
       "      <td>1.285889</td>\n",
       "      <td>1</td>\n",
       "    </tr>\n",
       "    <tr>\n",
       "      <th>2024-06-12</th>\n",
       "      <td>539.619141</td>\n",
       "      <td>Wednesday</td>\n",
       "      <td>4.395813</td>\n",
       "      <td>1</td>\n",
       "    </tr>\n",
       "    <tr>\n",
       "      <th>2024-06-13</th>\n",
       "      <td>540.705627</td>\n",
       "      <td>Thursday</td>\n",
       "      <td>1.086487</td>\n",
       "      <td>1</td>\n",
       "    </tr>\n",
       "    <tr>\n",
       "      <th>2024-06-14</th>\n",
       "      <td>541.034607</td>\n",
       "      <td>Friday</td>\n",
       "      <td>0.328979</td>\n",
       "      <td>1</td>\n",
       "    </tr>\n",
       "  </tbody>\n",
       "</table>\n",
       "<p>6353 rows × 4 columns</p>\n",
       "</div>"
      ],
      "text/plain": [
       "                   SPY    Weekday  Daily_Diff price_change\n",
       "Date                                                      \n",
       "2004-01-01         NaN   Thursday         NaN             \n",
       "2004-01-02   75.387589     Friday         NaN             \n",
       "2004-01-05   76.207680     Monday    0.820091            1\n",
       "2004-01-06   76.282227    Tuesday    0.074547            1\n",
       "2004-01-07   76.539787  Wednesday    0.257561            1\n",
       "...                ...        ...         ...          ...\n",
       "2024-06-10  533.937439     Monday         NaN             \n",
       "2024-06-11  535.223328    Tuesday    1.285889            1\n",
       "2024-06-12  539.619141  Wednesday    4.395813            1\n",
       "2024-06-13  540.705627   Thursday    1.086487            1\n",
       "2024-06-14  541.034607     Friday    0.328979            1\n",
       "\n",
       "[6353 rows x 4 columns]"
      ]
     },
     "execution_count": 8,
     "metadata": {},
     "output_type": "execute_result"
    }
   ],
   "source": [
    "SPY_prices = df_Markov_chains('SPY')\n",
    "SPY_prices"
   ]
  },
  {
   "cell_type": "code",
   "execution_count": 9,
   "id": "40c0b2b4-cf92-4bd1-9928-881beea8c423",
   "metadata": {},
   "outputs": [
    {
     "data": {
      "text/html": [
       "<div>\n",
       "<style scoped>\n",
       "    .dataframe tbody tr th:only-of-type {\n",
       "        vertical-align: middle;\n",
       "    }\n",
       "\n",
       "    .dataframe tbody tr th {\n",
       "        vertical-align: top;\n",
       "    }\n",
       "\n",
       "    .dataframe thead th {\n",
       "        text-align: right;\n",
       "    }\n",
       "</style>\n",
       "<table border=\"1\" class=\"dataframe\">\n",
       "  <thead>\n",
       "    <tr style=\"text-align: right;\">\n",
       "      <th></th>\n",
       "      <th>price_change</th>\n",
       "      <th>count_1_to_minus1</th>\n",
       "      <th>count_minus1_to_1</th>\n",
       "    </tr>\n",
       "    <tr>\n",
       "      <th>Date</th>\n",
       "      <th></th>\n",
       "      <th></th>\n",
       "      <th></th>\n",
       "    </tr>\n",
       "  </thead>\n",
       "  <tbody>\n",
       "    <tr>\n",
       "      <th>2024-01-03</th>\n",
       "      <td>-1</td>\n",
       "      <td>0</td>\n",
       "      <td>0</td>\n",
       "    </tr>\n",
       "    <tr>\n",
       "      <th>2024-01-04</th>\n",
       "      <td>-1</td>\n",
       "      <td>0</td>\n",
       "      <td>1</td>\n",
       "    </tr>\n",
       "    <tr>\n",
       "      <th>2024-01-05</th>\n",
       "      <td>1</td>\n",
       "      <td>1</td>\n",
       "      <td>0</td>\n",
       "    </tr>\n",
       "    <tr>\n",
       "      <th>2024-01-09</th>\n",
       "      <td>-1</td>\n",
       "      <td>0</td>\n",
       "      <td>1</td>\n",
       "    </tr>\n",
       "    <tr>\n",
       "      <th>2024-01-10</th>\n",
       "      <td>1</td>\n",
       "      <td>1</td>\n",
       "      <td>0</td>\n",
       "    </tr>\n",
       "    <tr>\n",
       "      <th>...</th>\n",
       "      <td>...</td>\n",
       "      <td>...</td>\n",
       "      <td>...</td>\n",
       "    </tr>\n",
       "    <tr>\n",
       "      <th>2024-06-07</th>\n",
       "      <td>-1</td>\n",
       "      <td>0</td>\n",
       "      <td>1</td>\n",
       "    </tr>\n",
       "    <tr>\n",
       "      <th>2024-06-11</th>\n",
       "      <td>1</td>\n",
       "      <td>0</td>\n",
       "      <td>0</td>\n",
       "    </tr>\n",
       "    <tr>\n",
       "      <th>2024-06-12</th>\n",
       "      <td>1</td>\n",
       "      <td>0</td>\n",
       "      <td>0</td>\n",
       "    </tr>\n",
       "    <tr>\n",
       "      <th>2024-06-13</th>\n",
       "      <td>1</td>\n",
       "      <td>0</td>\n",
       "      <td>0</td>\n",
       "    </tr>\n",
       "    <tr>\n",
       "      <th>2024-06-14</th>\n",
       "      <td>1</td>\n",
       "      <td>0</td>\n",
       "      <td>0</td>\n",
       "    </tr>\n",
       "  </tbody>\n",
       "</table>\n",
       "<p>91 rows × 3 columns</p>\n",
       "</div>"
      ],
      "text/plain": [
       "           price_change  count_1_to_minus1  count_minus1_to_1\n",
       "Date                                                         \n",
       "2024-01-03           -1                  0                  0\n",
       "2024-01-04           -1                  0                  1\n",
       "2024-01-05            1                  1                  0\n",
       "2024-01-09           -1                  0                  1\n",
       "2024-01-10            1                  1                  0\n",
       "...                 ...                ...                ...\n",
       "2024-06-07           -1                  0                  1\n",
       "2024-06-11            1                  0                  0\n",
       "2024-06-12            1                  0                  0\n",
       "2024-06-13            1                  0                  0\n",
       "2024-06-14            1                  0                  0\n",
       "\n",
       "[91 rows x 3 columns]"
      ]
     },
     "execution_count": 9,
     "metadata": {},
     "output_type": "execute_result"
    }
   ],
   "source": [
    "states_SPY = states_fn(SPY_prices)['2024-01-01':]\n",
    "states_SPY"
   ]
  },
  {
   "cell_type": "markdown",
   "id": "e62dc7e5-9474-4594-9b90-f18cddd09a38",
   "metadata": {},
   "source": [
    "At this point we compute the probablity of the price changing its state or remaining it unchanged, only considering its current state. We use previous proportions as probabilities."
   ]
  },
  {
   "cell_type": "code",
   "execution_count": 10,
   "id": "5a95e896-4328-4b3b-9851-b6583455d968",
   "metadata": {},
   "outputs": [
    {
     "name": "stdout",
     "output_type": "stream",
     "text": [
      "Number of up days: 53\n",
      "Number of down days: 38\n"
     ]
    }
   ],
   "source": [
    "print('Number of up days:', sum(states_SPY['price_change'] == \"1\"))\n",
    "print('Number of down days:', sum(states_SPY['price_change'] == \"-1\"))"
   ]
  },
  {
   "cell_type": "code",
   "execution_count": 11,
   "id": "3aeb392c-0f3f-4261-8aef-a6a059559097",
   "metadata": {},
   "outputs": [
    {
     "name": "stdout",
     "output_type": "stream",
     "text": [
      "up to up: 32\n",
      "up to down: 21\n",
      "down to up: 22\n",
      "down to down: 16\n"
     ]
    }
   ],
   "source": [
    "print('up to up:', sum(states_SPY['price_change'] == \"1\") - states_SPY['count_1_to_minus1'].sum())\n",
    "print('up to down:', states_SPY['count_1_to_minus1'].sum())\n",
    "print('down to up:', states_SPY['count_minus1_to_1'].sum())\n",
    "print('down to down:', sum(states_SPY['price_change'] == \"-1\") - states_SPY['count_minus1_to_1'].sum())"
   ]
  },
  {
   "cell_type": "code",
   "execution_count": 12,
   "id": "77490d98-9c7b-42d0-8786-5b6f416e2553",
   "metadata": {},
   "outputs": [],
   "source": [
    "prob_up_to_up = (sum(states_SPY['price_change'] == \"1\") - states_SPY['count_1_to_minus1'].sum())/(sum(states_SPY['price_change'] == \"1\"))\n",
    "prob_up_to_down = (states_SPY['count_1_to_minus1'].sum())/(sum(states_SPY['price_change'] == \"1\"))\n",
    "prob_down_to_up = (states_SPY['count_minus1_to_1'].sum())/(sum(states_SPY['price_change'] == \"-1\"))\n",
    "prob_down_down = (sum(states_SPY['price_change'] == \"-1\") - states_SPY['count_minus1_to_1'].sum())/(sum(states_SPY['price_change'] == \"-1\"))"
   ]
  },
  {
   "cell_type": "code",
   "execution_count": 13,
   "id": "2a25f63d-3017-4890-9387-a11e6b8d060e",
   "metadata": {},
   "outputs": [
    {
     "data": {
      "text/plain": [
       "array([[0.60377358, 0.39622642],\n",
       "       [0.57894737, 0.42105263]])"
      ]
     },
     "execution_count": 13,
     "metadata": {},
     "output_type": "execute_result"
    }
   ],
   "source": [
    "# Define the transition matrix\n",
    "\n",
    "transition_matrix = np.array([\n",
    "    [prob_up_to_up, prob_up_to_down],\n",
    "    [prob_down_to_up, prob_down_down]])\n",
    "\n",
    "transition_matrix"
   ]
  },
  {
   "cell_type": "code",
   "execution_count": 14,
   "id": "6bc8e829-7f09-4737-8b3c-0d9392aaab00",
   "metadata": {},
   "outputs": [],
   "source": [
    "# Function to simulate a single run of the Markov chain. We run the simulation states with 0 as up and 1 as down\n",
    "\n",
    "def simulate_markov_chain(transition_matrix, initial_state, steps):\n",
    "    state = initial_state\n",
    "    states = [state]\n",
    "\n",
    "    for _ in range(steps):\n",
    "        state = np.random.choice([0, 1], p=transition_matrix[state])\n",
    "        states.append(state)\n",
    "    \n",
    "    return states"
   ]
  },
  {
   "cell_type": "code",
   "execution_count": 15,
   "id": "a3ee6283-650b-4fba-a497-bd413d5b6c20",
   "metadata": {},
   "outputs": [],
   "source": [
    "# Function to replicate the simulation of the Markox chain\n",
    "\n",
    "def replicate_simulations(transition_matrix, initial_state, steps, replications):\n",
    "    all_simulations = []\n",
    "\n",
    "    for _ in range(replications):\n",
    "        simulation = simulate_markov_chain(transition_matrix, initial_state, steps)\n",
    "        all_simulations.append(simulation)\n",
    "    \n",
    "    return all_simulations"
   ]
  },
  {
   "cell_type": "code",
   "execution_count": 16,
   "id": "2f96cd95-51db-455a-8f63-4da8300d036c",
   "metadata": {},
   "outputs": [],
   "source": [
    "# Function to analyze the simulations\n",
    "\n",
    "def analyze_simulations(all_simulations):\n",
    "    df = pd.DataFrame(all_simulations)\n",
    "    mean_state = df.mean(axis=0)\n",
    "    median_state = df.median(axis=0)\n",
    "    \n",
    "    return mean_state, median_state"
   ]
  },
  {
   "cell_type": "code",
   "execution_count": 17,
   "id": "a77cc54d-3b1c-4e2c-b9f7-9e39ca3bfbda",
   "metadata": {},
   "outputs": [],
   "source": [
    "# Parameters for the simulations\n",
    "\n",
    "initial_state = 0  # 'up' as 0 and 'down' as 1\n",
    "steps = 5  # Number of steps in each simulation\n",
    "replications = 10000  # Number of replications"
   ]
  },
  {
   "cell_type": "code",
   "execution_count": 18,
   "id": "65337b4c-5548-47aa-ba06-591653ee3d6b",
   "metadata": {},
   "outputs": [],
   "source": [
    "# Run the simulations\n",
    "\n",
    "all_simulations = replicate_simulations(transition_matrix, initial_state, steps, replications)"
   ]
  },
  {
   "cell_type": "code",
   "execution_count": 19,
   "id": "2cb9201c-80a3-4740-991a-7f95ed6a8a3a",
   "metadata": {},
   "outputs": [],
   "source": [
    "# Analyze the results\n",
    "\n",
    "mean_state, median_state = analyze_simulations(all_simulations)"
   ]
  },
  {
   "cell_type": "markdown",
   "id": "9d08e9db-11e8-47a3-beac-9c7f5ca87f41",
   "metadata": {},
   "source": [
    "The result for the next 5 periods indicates that the price will continue going up."
   ]
  },
  {
   "cell_type": "code",
   "execution_count": 20,
   "id": "f2a55467-8690-4b3b-9dde-150a52ce788e",
   "metadata": {},
   "outputs": [
    {
     "name": "stdout",
     "output_type": "stream",
     "text": [
      "Mean state for each step:\n",
      "0    0.0000\n",
      "1    0.3903\n",
      "2    0.4069\n",
      "3    0.4005\n",
      "4    0.4025\n",
      "5    0.4036\n",
      "dtype: float64\n",
      "\n",
      "Median state for each step:\n",
      "0    0.0\n",
      "1    0.0\n",
      "2    0.0\n",
      "3    0.0\n",
      "4    0.0\n",
      "5    0.0\n",
      "dtype: float64\n"
     ]
    }
   ],
   "source": [
    "print(\"Mean state for each step:\")\n",
    "print(mean_state)\n",
    "\n",
    "print(\"\\nMedian state for each step:\")\n",
    "print(median_state)"
   ]
  },
  {
   "cell_type": "code",
   "execution_count": 21,
   "id": "944ee8c2-85c7-4026-ba96-6230e656476c",
   "metadata": {},
   "outputs": [
    {
     "data": {
      "image/png": "[encoded data removed]",
      "text/plain": [
       "<Figure size 640x480 with 1 Axes>"
      ]
     },
     "metadata": {},
     "output_type": "display_data"
    }
   ],
   "source": [
    "plt.plot(SPY_prices['SPY'].dropna()['2024-01-01':'2024-06-04'], color='blue')\n",
    "plt.plot(SPY_prices['SPY'].dropna()['2024-06-04':], color='red') \n",
    "plt.show() "
   ]
  },
  {
   "cell_type": "code",
   "execution_count": 22,
   "id": "862ad07a-33ef-41f7-81c4-81f510ac6590",
   "metadata": {},
   "outputs": [
    {
     "data": {
      "text/plain": [
       "Date\n",
       "2024-06-04    526.690857\n",
       "2024-06-05    532.950623\n",
       "2024-06-06    532.940674\n",
       "2024-06-07    532.292786\n",
       "2024-06-08           NaN\n",
       "2024-06-09           NaN\n",
       "2024-06-10    533.937439\n",
       "2024-06-11    535.223328\n",
       "2024-06-12    539.619141\n",
       "2024-06-13    540.705627\n",
       "2024-06-14    541.034607\n",
       "Name: SPY, dtype: float64"
      ]
     },
     "execution_count": 22,
     "metadata": {},
     "output_type": "execute_result"
    }
   ],
   "source": [
    "SPY_prices['SPY']['2024-06-04':]"
   ]
  },
  {
   "cell_type": "markdown",
   "id": "3fbfba54-005b-4935-8d7a-e3908a2bd427",
   "metadata": {},
   "source": [
    "As a contrast, we test the strategy for SPY in a bearish period."
   ]
  },
  {
   "cell_type": "code",
   "execution_count": 23,
   "id": "034aaecc-24d2-4015-a65d-3b45e976963c",
   "metadata": {},
   "outputs": [
    {
     "data": {
      "text/plain": [
       "[<matplotlib.lines.Line2D at 0x15e9b852760>]"
      ]
     },
     "execution_count": 23,
     "metadata": {},
     "output_type": "execute_result"
    },
    {
     "data": {
      "image/png": "[encoded data removed]",
      "text/plain": [
       "<Figure size 640x480 with 1 Axes>"
      ]
     },
     "metadata": {},
     "output_type": "display_data"
    }
   ],
   "source": [
    "plt.plot(SPY_prices['SPY'].dropna()['2022-01-01':'2022-12-23'], color='blue')"
   ]
  },
  {
   "cell_type": "code",
   "execution_count": 24,
   "id": "b6cb5978-9c2a-4930-bea2-fd5213c6ebbc",
   "metadata": {},
   "outputs": [
    {
     "data": {
      "text/html": [
       "<div>\n",
       "<style scoped>\n",
       "    .dataframe tbody tr th:only-of-type {\n",
       "        vertical-align: middle;\n",
       "    }\n",
       "\n",
       "    .dataframe tbody tr th {\n",
       "        vertical-align: top;\n",
       "    }\n",
       "\n",
       "    .dataframe thead th {\n",
       "        text-align: right;\n",
       "    }\n",
       "</style>\n",
       "<table border=\"1\" class=\"dataframe\">\n",
       "  <thead>\n",
       "    <tr style=\"text-align: right;\">\n",
       "      <th></th>\n",
       "      <th>price_change</th>\n",
       "      <th>count_1_to_minus1</th>\n",
       "      <th>count_minus1_to_1</th>\n",
       "    </tr>\n",
       "    <tr>\n",
       "      <th>Date</th>\n",
       "      <th></th>\n",
       "      <th></th>\n",
       "      <th></th>\n",
       "    </tr>\n",
       "  </thead>\n",
       "  <tbody>\n",
       "    <tr>\n",
       "      <th>2022-01-04</th>\n",
       "      <td>-1</td>\n",
       "      <td>0</td>\n",
       "      <td>0</td>\n",
       "    </tr>\n",
       "    <tr>\n",
       "      <th>2022-01-05</th>\n",
       "      <td>-1</td>\n",
       "      <td>0</td>\n",
       "      <td>0</td>\n",
       "    </tr>\n",
       "    <tr>\n",
       "      <th>2022-01-06</th>\n",
       "      <td>-1</td>\n",
       "      <td>0</td>\n",
       "      <td>0</td>\n",
       "    </tr>\n",
       "    <tr>\n",
       "      <th>2022-01-07</th>\n",
       "      <td>-1</td>\n",
       "      <td>0</td>\n",
       "      <td>1</td>\n",
       "    </tr>\n",
       "    <tr>\n",
       "      <th>2022-01-11</th>\n",
       "      <td>1</td>\n",
       "      <td>0</td>\n",
       "      <td>0</td>\n",
       "    </tr>\n",
       "    <tr>\n",
       "      <th>...</th>\n",
       "      <td>...</td>\n",
       "      <td>...</td>\n",
       "      <td>...</td>\n",
       "    </tr>\n",
       "    <tr>\n",
       "      <th>2022-12-16</th>\n",
       "      <td>-1</td>\n",
       "      <td>0</td>\n",
       "      <td>1</td>\n",
       "    </tr>\n",
       "    <tr>\n",
       "      <th>2022-12-20</th>\n",
       "      <td>1</td>\n",
       "      <td>0</td>\n",
       "      <td>0</td>\n",
       "    </tr>\n",
       "    <tr>\n",
       "      <th>2022-12-21</th>\n",
       "      <td>1</td>\n",
       "      <td>1</td>\n",
       "      <td>0</td>\n",
       "    </tr>\n",
       "    <tr>\n",
       "      <th>2022-12-22</th>\n",
       "      <td>-1</td>\n",
       "      <td>0</td>\n",
       "      <td>1</td>\n",
       "    </tr>\n",
       "    <tr>\n",
       "      <th>2022-12-23</th>\n",
       "      <td>1</td>\n",
       "      <td>0</td>\n",
       "      <td>0</td>\n",
       "    </tr>\n",
       "  </tbody>\n",
       "</table>\n",
       "<p>194 rows × 3 columns</p>\n",
       "</div>"
      ],
      "text/plain": [
       "           price_change  count_1_to_minus1  count_minus1_to_1\n",
       "Date                                                         \n",
       "2022-01-04           -1                  0                  0\n",
       "2022-01-05           -1                  0                  0\n",
       "2022-01-06           -1                  0                  0\n",
       "2022-01-07           -1                  0                  1\n",
       "2022-01-11            1                  0                  0\n",
       "...                 ...                ...                ...\n",
       "2022-12-16           -1                  0                  1\n",
       "2022-12-20            1                  0                  0\n",
       "2022-12-21            1                  1                  0\n",
       "2022-12-22           -1                  0                  1\n",
       "2022-12-23            1                  0                  0\n",
       "\n",
       "[194 rows x 3 columns]"
      ]
     },
     "execution_count": 24,
     "metadata": {},
     "output_type": "execute_result"
    }
   ],
   "source": [
    "states_SPY_down = states_fn(SPY_prices['2022-01-01':'2022-12-23'])\n",
    "states_SPY_down"
   ]
  },
  {
   "cell_type": "code",
   "execution_count": 25,
   "id": "fc0fef96-9945-422b-ae49-f1b95446bb4c",
   "metadata": {},
   "outputs": [
    {
     "name": "stdout",
     "output_type": "stream",
     "text": [
      "Number of up days: 87\n",
      "Number of down days: 107\n",
      "up to up: 39\n",
      "up to down: 48\n",
      "down to up: 49\n",
      "down to down: 58\n"
     ]
    }
   ],
   "source": [
    "print('Number of up days:', sum(states_SPY_down['price_change'] == \"1\"))\n",
    "print('Number of down days:', sum(states_SPY_down['price_change'] == \"-1\"))\n",
    "\n",
    "print('up to up:', sum(states_SPY_down['price_change'] == \"1\") - states_SPY_down['count_1_to_minus1'].sum())\n",
    "print('up to down:', states_SPY_down['count_1_to_minus1'].sum())\n",
    "print('down to up:', states_SPY_down['count_minus1_to_1'].sum())\n",
    "print('down to down:', sum(states_SPY_down['price_change'] == \"-1\") - states_SPY_down['count_minus1_to_1'].sum())"
   ]
  },
  {
   "cell_type": "code",
   "execution_count": 26,
   "id": "856101bb-3cfe-4998-97f3-b3e8bdc05648",
   "metadata": {},
   "outputs": [],
   "source": [
    "prob_up_to_up = (sum(states_SPY_down['price_change'] == \"1\") - states_SPY_down['count_1_to_minus1'].sum())/(sum(states_SPY_down['price_change'] == \"1\"))\n",
    "prob_up_to_down = (states_SPY_down['count_1_to_minus1'].sum())/(sum(states_SPY_down['price_change'] == \"1\"))\n",
    "prob_down_to_up = (states_SPY_down['count_minus1_to_1'].sum())/(sum(states_SPY_down['price_change'] == \"-1\"))\n",
    "prob_down_down = (sum(states_SPY_down['price_change'] == \"-1\") - states_SPY_down['count_minus1_to_1'].sum())/(sum(states_SPY_down['price_change'] == \"-1\"))"
   ]
  },
  {
   "cell_type": "code",
   "execution_count": 27,
   "id": "c61d8dc5-69b8-489b-b838-d68b57ccee4f",
   "metadata": {},
   "outputs": [
    {
     "data": {
      "text/plain": [
       "array([[0.44827586, 0.55172414],\n",
       "       [0.45794393, 0.54205607]])"
      ]
     },
     "execution_count": 27,
     "metadata": {},
     "output_type": "execute_result"
    }
   ],
   "source": [
    "# Define the transition matrix\n",
    "\n",
    "transition_matrix = np.array([\n",
    "    [prob_up_to_up, prob_up_to_down],\n",
    "    [prob_down_to_up, prob_down_down]])\n",
    "\n",
    "transition_matrix"
   ]
  },
  {
   "cell_type": "code",
   "execution_count": 28,
   "id": "21c206fd-0c3b-43b4-9c6b-c1290a793ccc",
   "metadata": {},
   "outputs": [],
   "source": [
    "# Parameters. We change the initial state to down\n",
    "\n",
    "initial_state = 1  # 'up' as 0 and 'down' as 1\n",
    "steps = 5  # Number of steps in each simulation\n",
    "replications = 10000  # Number of replications"
   ]
  },
  {
   "cell_type": "code",
   "execution_count": 29,
   "id": "bf114478-400a-4a47-bdfe-e5d4ffb22221",
   "metadata": {},
   "outputs": [],
   "source": [
    "# Run the simulations\n",
    "\n",
    "all_simulations = replicate_simulations(transition_matrix, initial_state, steps, replications)"
   ]
  },
  {
   "cell_type": "code",
   "execution_count": 30,
   "id": "c10e7ffe-3a69-463d-aeca-b7865036c46e",
   "metadata": {},
   "outputs": [],
   "source": [
    "# Analyze the results\n",
    "\n",
    "mean_state, median_state = analyze_simulations(all_simulations)"
   ]
  },
  {
   "cell_type": "markdown",
   "id": "170183bb-c4fe-4469-a0fb-aed2ead75fb4",
   "metadata": {},
   "source": [
    "The result indicates the price will continue going down for the next 5 periods."
   ]
  },
  {
   "cell_type": "code",
   "execution_count": 31,
   "id": "8bdf1e25-d47b-48a8-abaf-65572ce17a5e",
   "metadata": {},
   "outputs": [
    {
     "name": "stdout",
     "output_type": "stream",
     "text": [
      "Mean state for each step:\n",
      "0    1.0000\n",
      "1    0.5303\n",
      "2    0.5522\n",
      "3    0.5533\n",
      "4    0.5355\n",
      "5    0.5504\n",
      "dtype: float64\n",
      "\n",
      "Median state for each step:\n",
      "0    1.0\n",
      "1    1.0\n",
      "2    1.0\n",
      "3    1.0\n",
      "4    1.0\n",
      "5    1.0\n",
      "dtype: float64\n"
     ]
    }
   ],
   "source": [
    "print(\"Mean state for each step:\")\n",
    "print(mean_state)\n",
    "\n",
    "print(\"\\nMedian state for each step:\")\n",
    "print(median_state)"
   ]
  },
  {
   "cell_type": "code",
   "execution_count": 32,
   "id": "3e239273-fd1d-4bf6-b3f8-570388deb2d6",
   "metadata": {},
   "outputs": [
    {
     "data": {
      "image/png": "[encoded data removed]",
      "text/plain": [
       "<Figure size 640x480 with 1 Axes>"
      ]
     },
     "metadata": {},
     "output_type": "display_data"
    }
   ],
   "source": [
    "plt.plot(SPY_prices['SPY'].dropna()['2022-01-01':'2022-12-23'], color='blue')\n",
    "plt.plot(SPY_prices['SPY'].dropna()['2022-12-23':'2022-12-31'], color='red') \n",
    "plt.show() "
   ]
  },
  {
   "cell_type": "code",
   "execution_count": 33,
   "id": "7754aa75-015a-4750-89c0-7f53debf4d80",
   "metadata": {},
   "outputs": [
    {
     "data": {
      "text/plain": [
       "Date\n",
       "2022-12-23    374.799988\n",
       "2022-12-24           NaN\n",
       "2022-12-25           NaN\n",
       "2022-12-26           NaN\n",
       "2022-12-27    373.321960\n",
       "2022-12-28    368.682404\n",
       "2022-12-29    375.318787\n",
       "2022-12-30    374.330109\n",
       "2022-12-31           NaN\n",
       "Name: SPY, dtype: float64"
      ]
     },
     "execution_count": 33,
     "metadata": {},
     "output_type": "execute_result"
    }
   ],
   "source": [
    "SPY_prices['SPY']['2022-12-23':'2022-12-31']"
   ]
  },
  {
   "cell_type": "markdown",
   "id": "c5b5d7be-123c-4ba2-9643-e3a7be1d949c",
   "metadata": {},
   "source": [
    "## Bitcoin exercise "
   ]
  },
  {
   "cell_type": "code",
   "execution_count": 34,
   "id": "f11b4f1f-f56f-4ae4-b905-95eb43ede583",
   "metadata": {},
   "outputs": [
    {
     "data": {
      "text/html": [
       "<div>\n",
       "<style scoped>\n",
       "    .dataframe tbody tr th:only-of-type {\n",
       "        vertical-align: middle;\n",
       "    }\n",
       "\n",
       "    .dataframe tbody tr th {\n",
       "        vertical-align: top;\n",
       "    }\n",
       "\n",
       "    .dataframe thead th {\n",
       "        text-align: right;\n",
       "    }\n",
       "</style>\n",
       "<table border=\"1\" class=\"dataframe\">\n",
       "  <thead>\n",
       "    <tr style=\"text-align: right;\">\n",
       "      <th></th>\n",
       "      <th>BTC-USD</th>\n",
       "      <th>Weekday</th>\n",
       "      <th>Daily_Diff</th>\n",
       "      <th>price_change</th>\n",
       "    </tr>\n",
       "    <tr>\n",
       "      <th>Date</th>\n",
       "      <th></th>\n",
       "      <th></th>\n",
       "      <th></th>\n",
       "      <th></th>\n",
       "    </tr>\n",
       "  </thead>\n",
       "  <tbody>\n",
       "    <tr>\n",
       "      <th>2004-01-01</th>\n",
       "      <td>NaN</td>\n",
       "      <td>Thursday</td>\n",
       "      <td>NaN</td>\n",
       "      <td></td>\n",
       "    </tr>\n",
       "    <tr>\n",
       "      <th>2004-01-02</th>\n",
       "      <td>NaN</td>\n",
       "      <td>Friday</td>\n",
       "      <td>NaN</td>\n",
       "      <td></td>\n",
       "    </tr>\n",
       "    <tr>\n",
       "      <th>2004-01-05</th>\n",
       "      <td>NaN</td>\n",
       "      <td>Monday</td>\n",
       "      <td>NaN</td>\n",
       "      <td></td>\n",
       "    </tr>\n",
       "    <tr>\n",
       "      <th>2004-01-06</th>\n",
       "      <td>NaN</td>\n",
       "      <td>Tuesday</td>\n",
       "      <td>NaN</td>\n",
       "      <td></td>\n",
       "    </tr>\n",
       "    <tr>\n",
       "      <th>2004-01-07</th>\n",
       "      <td>NaN</td>\n",
       "      <td>Wednesday</td>\n",
       "      <td>NaN</td>\n",
       "      <td></td>\n",
       "    </tr>\n",
       "    <tr>\n",
       "      <th>...</th>\n",
       "      <td>...</td>\n",
       "      <td>...</td>\n",
       "      <td>...</td>\n",
       "      <td>...</td>\n",
       "    </tr>\n",
       "    <tr>\n",
       "      <th>2024-06-10</th>\n",
       "      <td>69512.281250</td>\n",
       "      <td>Monday</td>\n",
       "      <td>-135.710938</td>\n",
       "      <td>-1</td>\n",
       "    </tr>\n",
       "    <tr>\n",
       "      <th>2024-06-11</th>\n",
       "      <td>67332.031250</td>\n",
       "      <td>Tuesday</td>\n",
       "      <td>-2180.250000</td>\n",
       "      <td>-1</td>\n",
       "    </tr>\n",
       "    <tr>\n",
       "      <th>2024-06-12</th>\n",
       "      <td>68241.187500</td>\n",
       "      <td>Wednesday</td>\n",
       "      <td>909.156250</td>\n",
       "      <td>1</td>\n",
       "    </tr>\n",
       "    <tr>\n",
       "      <th>2024-06-13</th>\n",
       "      <td>66756.398438</td>\n",
       "      <td>Thursday</td>\n",
       "      <td>-1484.789062</td>\n",
       "      <td>-1</td>\n",
       "    </tr>\n",
       "    <tr>\n",
       "      <th>2024-06-14</th>\n",
       "      <td>66011.093750</td>\n",
       "      <td>Friday</td>\n",
       "      <td>-745.304688</td>\n",
       "      <td>-1</td>\n",
       "    </tr>\n",
       "  </tbody>\n",
       "</table>\n",
       "<p>6353 rows × 4 columns</p>\n",
       "</div>"
      ],
      "text/plain": [
       "                 BTC-USD    Weekday   Daily_Diff price_change\n",
       "Date                                                         \n",
       "2004-01-01           NaN   Thursday          NaN             \n",
       "2004-01-02           NaN     Friday          NaN             \n",
       "2004-01-05           NaN     Monday          NaN             \n",
       "2004-01-06           NaN    Tuesday          NaN             \n",
       "2004-01-07           NaN  Wednesday          NaN             \n",
       "...                  ...        ...          ...          ...\n",
       "2024-06-10  69512.281250     Monday  -135.710938           -1\n",
       "2024-06-11  67332.031250    Tuesday -2180.250000           -1\n",
       "2024-06-12  68241.187500  Wednesday   909.156250            1\n",
       "2024-06-13  66756.398438   Thursday -1484.789062           -1\n",
       "2024-06-14  66011.093750     Friday  -745.304688           -1\n",
       "\n",
       "[6353 rows x 4 columns]"
      ]
     },
     "execution_count": 34,
     "metadata": {},
     "output_type": "execute_result"
    }
   ],
   "source": [
    "BTC_prices = df_Markov_chains('BTC-USD')\n",
    "BTC_prices"
   ]
  },
  {
   "cell_type": "code",
   "execution_count": 35,
   "id": "21d56133-bdce-47ad-a6e6-824c87ae00af",
   "metadata": {},
   "outputs": [
    {
     "data": {
      "text/html": [
       "<div>\n",
       "<style scoped>\n",
       "    .dataframe tbody tr th:only-of-type {\n",
       "        vertical-align: middle;\n",
       "    }\n",
       "\n",
       "    .dataframe tbody tr th {\n",
       "        vertical-align: top;\n",
       "    }\n",
       "\n",
       "    .dataframe thead th {\n",
       "        text-align: right;\n",
       "    }\n",
       "</style>\n",
       "<table border=\"1\" class=\"dataframe\">\n",
       "  <thead>\n",
       "    <tr style=\"text-align: right;\">\n",
       "      <th></th>\n",
       "      <th>price_change</th>\n",
       "      <th>count_1_to_minus1</th>\n",
       "      <th>count_minus1_to_1</th>\n",
       "    </tr>\n",
       "    <tr>\n",
       "      <th>Date</th>\n",
       "      <th></th>\n",
       "      <th></th>\n",
       "      <th></th>\n",
       "    </tr>\n",
       "  </thead>\n",
       "  <tbody>\n",
       "    <tr>\n",
       "      <th>2024-01-01</th>\n",
       "      <td>1</td>\n",
       "      <td>0</td>\n",
       "      <td>0</td>\n",
       "    </tr>\n",
       "    <tr>\n",
       "      <th>2024-01-02</th>\n",
       "      <td>1</td>\n",
       "      <td>1</td>\n",
       "      <td>0</td>\n",
       "    </tr>\n",
       "    <tr>\n",
       "      <th>2024-01-03</th>\n",
       "      <td>-1</td>\n",
       "      <td>0</td>\n",
       "      <td>1</td>\n",
       "    </tr>\n",
       "    <tr>\n",
       "      <th>2024-01-04</th>\n",
       "      <td>1</td>\n",
       "      <td>1</td>\n",
       "      <td>0</td>\n",
       "    </tr>\n",
       "    <tr>\n",
       "      <th>2024-01-05</th>\n",
       "      <td>-1</td>\n",
       "      <td>0</td>\n",
       "      <td>0</td>\n",
       "    </tr>\n",
       "    <tr>\n",
       "      <th>...</th>\n",
       "      <td>...</td>\n",
       "      <td>...</td>\n",
       "      <td>...</td>\n",
       "    </tr>\n",
       "    <tr>\n",
       "      <th>2024-06-10</th>\n",
       "      <td>-1</td>\n",
       "      <td>0</td>\n",
       "      <td>0</td>\n",
       "    </tr>\n",
       "    <tr>\n",
       "      <th>2024-06-11</th>\n",
       "      <td>-1</td>\n",
       "      <td>0</td>\n",
       "      <td>1</td>\n",
       "    </tr>\n",
       "    <tr>\n",
       "      <th>2024-06-12</th>\n",
       "      <td>1</td>\n",
       "      <td>1</td>\n",
       "      <td>0</td>\n",
       "    </tr>\n",
       "    <tr>\n",
       "      <th>2024-06-13</th>\n",
       "      <td>-1</td>\n",
       "      <td>0</td>\n",
       "      <td>0</td>\n",
       "    </tr>\n",
       "    <tr>\n",
       "      <th>2024-06-14</th>\n",
       "      <td>-1</td>\n",
       "      <td>0</td>\n",
       "      <td>0</td>\n",
       "    </tr>\n",
       "  </tbody>\n",
       "</table>\n",
       "<p>166 rows × 3 columns</p>\n",
       "</div>"
      ],
      "text/plain": [
       "           price_change  count_1_to_minus1  count_minus1_to_1\n",
       "Date                                                         \n",
       "2024-01-01            1                  0                  0\n",
       "2024-01-02            1                  1                  0\n",
       "2024-01-03           -1                  0                  1\n",
       "2024-01-04            1                  1                  0\n",
       "2024-01-05           -1                  0                  0\n",
       "...                 ...                ...                ...\n",
       "2024-06-10           -1                  0                  0\n",
       "2024-06-11           -1                  0                  1\n",
       "2024-06-12            1                  1                  0\n",
       "2024-06-13           -1                  0                  0\n",
       "2024-06-14           -1                  0                  0\n",
       "\n",
       "[166 rows x 3 columns]"
      ]
     },
     "execution_count": 35,
     "metadata": {},
     "output_type": "execute_result"
    }
   ],
   "source": [
    "states_BTC = states_fn(BTC_prices)['2024-01-01':]\n",
    "states_BTC"
   ]
  },
  {
   "cell_type": "code",
   "execution_count": 36,
   "id": "1f1f5b7e-6e70-49f1-8a23-5bb1707886e2",
   "metadata": {},
   "outputs": [
    {
     "name": "stdout",
     "output_type": "stream",
     "text": [
      "Number of up days: 88\n",
      "Number of down days: 78\n"
     ]
    }
   ],
   "source": [
    "print('Number of up days:', sum(states_BTC['price_change'] == \"1\"))\n",
    "print('Number of down days:', sum(states_BTC['price_change'] == \"-1\"))"
   ]
  },
  {
   "cell_type": "code",
   "execution_count": 37,
   "id": "5b09a087-b15c-48eb-917b-4b4911c3a0a5",
   "metadata": {},
   "outputs": [
    {
     "name": "stdout",
     "output_type": "stream",
     "text": [
      "up to up: 43\n",
      "up to down: 45\n",
      "down to up: 44\n",
      "down to down: 34\n"
     ]
    }
   ],
   "source": [
    "print('up to up:', sum(states_BTC['price_change'] == \"1\") - states_BTC['count_1_to_minus1'].sum())\n",
    "print('up to down:', states_BTC['count_1_to_minus1'].sum())\n",
    "print('down to up:', states_BTC['count_minus1_to_1'].sum())\n",
    "print('down to down:', sum(states_BTC['price_change'] == \"-1\") - states_BTC['count_minus1_to_1'].sum())"
   ]
  },
  {
   "cell_type": "code",
   "execution_count": 38,
   "id": "3c80110c-ab21-4a38-8ec8-6e206ac93434",
   "metadata": {},
   "outputs": [],
   "source": [
    "prob_up_to_up = (sum(states_BTC['price_change'] == \"1\") - states_BTC['count_1_to_minus1'].sum())/(sum(states_BTC['price_change'] == \"1\"))\n",
    "prob_up_to_down = (states_BTC['count_1_to_minus1'].sum())/(sum(states_BTC['price_change'] == \"1\"))\n",
    "prob_down_to_up = (states_BTC['count_minus1_to_1'].sum())/(sum(states_BTC['price_change'] == \"-1\"))\n",
    "prob_down_down = (sum(states_BTC['price_change'] == \"-1\") - states_BTC['count_minus1_to_1'].sum())/(sum(states_BTC['price_change'] == \"-1\"))"
   ]
  },
  {
   "cell_type": "code",
   "execution_count": 39,
   "id": "905b8a9e-ca0f-492a-be19-d5edbdd3bda2",
   "metadata": {},
   "outputs": [],
   "source": [
    "# Define the transition matrix\n",
    "\n",
    "transition_matrix = np.array([\n",
    "    [prob_up_to_up, prob_up_to_down],\n",
    "    [prob_down_to_up, prob_down_down]])"
   ]
  },
  {
   "cell_type": "code",
   "execution_count": 40,
   "id": "29b2128c-2b36-4bfe-a5db-4af1e11b4bc9",
   "metadata": {},
   "outputs": [],
   "source": [
    "# Parameters. We change the initial state to up\n",
    "\n",
    "initial_state = 0  # 'up' as 0 and 'down' as 1\n",
    "steps = 5  # Number of steps in each simulation\n",
    "replications = 10000  # Number of replications"
   ]
  },
  {
   "cell_type": "code",
   "execution_count": 41,
   "id": "daa5812e-5183-4834-844d-0e700319680d",
   "metadata": {},
   "outputs": [],
   "source": [
    "# Run the simulations\n",
    "\n",
    "all_simulations = replicate_simulations(transition_matrix, initial_state, steps, replications)"
   ]
  },
  {
   "cell_type": "code",
   "execution_count": 42,
   "id": "2843a11b-afe3-499a-b632-12a9811c7792",
   "metadata": {},
   "outputs": [],
   "source": [
    "# Analyze the results\n",
    "\n",
    "mean_state, median_state = analyze_simulations(all_simulations)"
   ]
  },
  {
   "cell_type": "markdown",
   "id": "f0e954b8-d49d-4001-bbb6-6f720251e9ff",
   "metadata": {},
   "source": [
    "The result indicates the price will go up on the first step and then it will go down."
   ]
  },
  {
   "cell_type": "code",
   "execution_count": 43,
   "id": "dbb48e80-5f7d-4c57-9044-7a54efe431b1",
   "metadata": {},
   "outputs": [
    {
     "name": "stdout",
     "output_type": "stream",
     "text": [
      "Mean state for each step:\n",
      "0    0.0000\n",
      "1    0.5063\n",
      "2    0.4781\n",
      "3    0.4768\n",
      "4    0.4704\n",
      "5    0.4784\n",
      "dtype: float64\n",
      "\n",
      "Median state for each step:\n",
      "0    0.0\n",
      "1    1.0\n",
      "2    0.0\n",
      "3    0.0\n",
      "4    0.0\n",
      "5    0.0\n",
      "dtype: float64\n"
     ]
    }
   ],
   "source": [
    "print(\"Mean state for each step:\")\n",
    "print(mean_state)\n",
    "\n",
    "print(\"\\nMedian state for each step:\")\n",
    "print(median_state)"
   ]
  },
  {
   "cell_type": "code",
   "execution_count": 44,
   "id": "7802af18-8b41-4867-96dc-45720c263d51",
   "metadata": {},
   "outputs": [
    {
     "data": {
      "image/png": "[encoded data removed]",
      "text/plain": [
       "<Figure size 640x480 with 1 Axes>"
      ]
     },
     "metadata": {},
     "output_type": "display_data"
    }
   ],
   "source": [
    "plt.plot(BTC_prices['BTC-USD']['2024-01-01':'2024-06-04'], color='blue')\n",
    "plt.plot(BTC_prices['BTC-USD']['2024-06-04':], color='red') \n",
    "plt.show() "
   ]
  },
  {
   "cell_type": "code",
   "execution_count": 45,
   "id": "b96e4325-63d5-4574-b0cd-7288e4265051",
   "metadata": {},
   "outputs": [
    {
     "data": {
      "text/plain": [
       "Date\n",
       "2024-06-04    70567.765625\n",
       "2024-06-05    71082.820312\n",
       "2024-06-06    70757.164062\n",
       "2024-06-07    69342.585938\n",
       "2024-06-08    69305.773438\n",
       "2024-06-09    69647.992188\n",
       "2024-06-10    69512.281250\n",
       "2024-06-11    67332.031250\n",
       "2024-06-12    68241.187500\n",
       "2024-06-13    66756.398438\n",
       "2024-06-14    66011.093750\n",
       "Name: BTC-USD, dtype: float64"
      ]
     },
     "execution_count": 45,
     "metadata": {},
     "output_type": "execute_result"
    }
   ],
   "source": [
    "BTC_prices['BTC-USD']['2024-06-04':]"
   ]
  },
  {
   "cell_type": "markdown",
   "id": "1bf0bf2a-0b69-451c-8a33-3904b353c1f9",
   "metadata": {},
   "source": [
    "## Pair EUR-USD exercise"
   ]
  },
  {
   "cell_type": "code",
   "execution_count": 46,
   "id": "720d5ad9-d93d-4903-806c-c9e8d0adfddf",
   "metadata": {},
   "outputs": [
    {
     "data": {
      "text/html": [
       "<div>\n",
       "<style scoped>\n",
       "    .dataframe tbody tr th:only-of-type {\n",
       "        vertical-align: middle;\n",
       "    }\n",
       "\n",
       "    .dataframe tbody tr th {\n",
       "        vertical-align: top;\n",
       "    }\n",
       "\n",
       "    .dataframe thead th {\n",
       "        text-align: right;\n",
       "    }\n",
       "</style>\n",
       "<table border=\"1\" class=\"dataframe\">\n",
       "  <thead>\n",
       "    <tr style=\"text-align: right;\">\n",
       "      <th></th>\n",
       "      <th>EURUSD=X</th>\n",
       "      <th>Weekday</th>\n",
       "      <th>Daily_Diff</th>\n",
       "      <th>price_change</th>\n",
       "    </tr>\n",
       "    <tr>\n",
       "      <th>Date</th>\n",
       "      <th></th>\n",
       "      <th></th>\n",
       "      <th></th>\n",
       "      <th></th>\n",
       "    </tr>\n",
       "  </thead>\n",
       "  <tbody>\n",
       "    <tr>\n",
       "      <th>2004-01-01</th>\n",
       "      <td>1.258194</td>\n",
       "      <td>Thursday</td>\n",
       "      <td>NaN</td>\n",
       "      <td></td>\n",
       "    </tr>\n",
       "    <tr>\n",
       "      <th>2004-01-02</th>\n",
       "      <td>1.258194</td>\n",
       "      <td>Friday</td>\n",
       "      <td>0.000000</td>\n",
       "      <td></td>\n",
       "    </tr>\n",
       "    <tr>\n",
       "      <th>2004-01-05</th>\n",
       "      <td>1.268698</td>\n",
       "      <td>Monday</td>\n",
       "      <td>0.010504</td>\n",
       "      <td>1</td>\n",
       "    </tr>\n",
       "    <tr>\n",
       "      <th>2004-01-06</th>\n",
       "      <td>1.272103</td>\n",
       "      <td>Tuesday</td>\n",
       "      <td>0.003405</td>\n",
       "      <td>1</td>\n",
       "    </tr>\n",
       "    <tr>\n",
       "      <th>2004-01-07</th>\n",
       "      <td>1.264095</td>\n",
       "      <td>Wednesday</td>\n",
       "      <td>-0.008008</td>\n",
       "      <td>-1</td>\n",
       "    </tr>\n",
       "    <tr>\n",
       "      <th>...</th>\n",
       "      <td>...</td>\n",
       "      <td>...</td>\n",
       "      <td>...</td>\n",
       "      <td>...</td>\n",
       "    </tr>\n",
       "    <tr>\n",
       "      <th>2024-06-10</th>\n",
       "      <td>1.077888</td>\n",
       "      <td>Monday</td>\n",
       "      <td>NaN</td>\n",
       "      <td></td>\n",
       "    </tr>\n",
       "    <tr>\n",
       "      <th>2024-06-11</th>\n",
       "      <td>1.076426</td>\n",
       "      <td>Tuesday</td>\n",
       "      <td>-0.001462</td>\n",
       "      <td>-1</td>\n",
       "    </tr>\n",
       "    <tr>\n",
       "      <th>2024-06-12</th>\n",
       "      <td>1.074033</td>\n",
       "      <td>Wednesday</td>\n",
       "      <td>-0.002393</td>\n",
       "      <td>-1</td>\n",
       "    </tr>\n",
       "    <tr>\n",
       "      <th>2024-06-13</th>\n",
       "      <td>1.081315</td>\n",
       "      <td>Thursday</td>\n",
       "      <td>0.007282</td>\n",
       "      <td>1</td>\n",
       "    </tr>\n",
       "    <tr>\n",
       "      <th>2024-06-14</th>\n",
       "      <td>1.073883</td>\n",
       "      <td>Friday</td>\n",
       "      <td>-0.007432</td>\n",
       "      <td>-1</td>\n",
       "    </tr>\n",
       "  </tbody>\n",
       "</table>\n",
       "<p>6353 rows × 4 columns</p>\n",
       "</div>"
      ],
      "text/plain": [
       "            EURUSD=X    Weekday  Daily_Diff price_change\n",
       "Date                                                    \n",
       "2004-01-01  1.258194   Thursday         NaN             \n",
       "2004-01-02  1.258194     Friday    0.000000             \n",
       "2004-01-05  1.268698     Monday    0.010504            1\n",
       "2004-01-06  1.272103    Tuesday    0.003405            1\n",
       "2004-01-07  1.264095  Wednesday   -0.008008           -1\n",
       "...              ...        ...         ...          ...\n",
       "2024-06-10  1.077888     Monday         NaN             \n",
       "2024-06-11  1.076426    Tuesday   -0.001462           -1\n",
       "2024-06-12  1.074033  Wednesday   -0.002393           -1\n",
       "2024-06-13  1.081315   Thursday    0.007282            1\n",
       "2024-06-14  1.073883     Friday   -0.007432           -1\n",
       "\n",
       "[6353 rows x 4 columns]"
      ]
     },
     "execution_count": 46,
     "metadata": {},
     "output_type": "execute_result"
    }
   ],
   "source": [
    "EURUSD_prices = df_Markov_chains('EURUSD=X')\n",
    "EURUSD_prices"
   ]
  },
  {
   "cell_type": "code",
   "execution_count": 47,
   "id": "ba1f229e-1351-4300-b62e-aca37c5646f9",
   "metadata": {},
   "outputs": [
    {
     "data": {
      "text/html": [
       "<div>\n",
       "<style scoped>\n",
       "    .dataframe tbody tr th:only-of-type {\n",
       "        vertical-align: middle;\n",
       "    }\n",
       "\n",
       "    .dataframe tbody tr th {\n",
       "        vertical-align: top;\n",
       "    }\n",
       "\n",
       "    .dataframe thead th {\n",
       "        text-align: right;\n",
       "    }\n",
       "</style>\n",
       "<table border=\"1\" class=\"dataframe\">\n",
       "  <thead>\n",
       "    <tr style=\"text-align: right;\">\n",
       "      <th></th>\n",
       "      <th>price_change</th>\n",
       "      <th>count_1_to_minus1</th>\n",
       "      <th>count_minus1_to_1</th>\n",
       "    </tr>\n",
       "    <tr>\n",
       "      <th>Date</th>\n",
       "      <th></th>\n",
       "      <th></th>\n",
       "      <th></th>\n",
       "    </tr>\n",
       "  </thead>\n",
       "  <tbody>\n",
       "    <tr>\n",
       "      <th>2024-01-02</th>\n",
       "      <td>-1</td>\n",
       "      <td>0</td>\n",
       "      <td>0</td>\n",
       "    </tr>\n",
       "    <tr>\n",
       "      <th>2024-01-03</th>\n",
       "      <td>-1</td>\n",
       "      <td>0</td>\n",
       "      <td>0</td>\n",
       "    </tr>\n",
       "    <tr>\n",
       "      <th>2024-01-04</th>\n",
       "      <td>-1</td>\n",
       "      <td>0</td>\n",
       "      <td>1</td>\n",
       "    </tr>\n",
       "    <tr>\n",
       "      <th>2024-01-05</th>\n",
       "      <td>1</td>\n",
       "      <td>0</td>\n",
       "      <td>0</td>\n",
       "    </tr>\n",
       "    <tr>\n",
       "      <th>2024-01-09</th>\n",
       "      <td>1</td>\n",
       "      <td>1</td>\n",
       "      <td>0</td>\n",
       "    </tr>\n",
       "    <tr>\n",
       "      <th>...</th>\n",
       "      <td>...</td>\n",
       "      <td>...</td>\n",
       "      <td>...</td>\n",
       "    </tr>\n",
       "    <tr>\n",
       "      <th>2024-06-07</th>\n",
       "      <td>1</td>\n",
       "      <td>1</td>\n",
       "      <td>0</td>\n",
       "    </tr>\n",
       "    <tr>\n",
       "      <th>2024-06-11</th>\n",
       "      <td>-1</td>\n",
       "      <td>0</td>\n",
       "      <td>0</td>\n",
       "    </tr>\n",
       "    <tr>\n",
       "      <th>2024-06-12</th>\n",
       "      <td>-1</td>\n",
       "      <td>0</td>\n",
       "      <td>1</td>\n",
       "    </tr>\n",
       "    <tr>\n",
       "      <th>2024-06-13</th>\n",
       "      <td>1</td>\n",
       "      <td>1</td>\n",
       "      <td>0</td>\n",
       "    </tr>\n",
       "    <tr>\n",
       "      <th>2024-06-14</th>\n",
       "      <td>-1</td>\n",
       "      <td>0</td>\n",
       "      <td>0</td>\n",
       "    </tr>\n",
       "  </tbody>\n",
       "</table>\n",
       "<p>95 rows × 3 columns</p>\n",
       "</div>"
      ],
      "text/plain": [
       "           price_change  count_1_to_minus1  count_minus1_to_1\n",
       "Date                                                         \n",
       "2024-01-02           -1                  0                  0\n",
       "2024-01-03           -1                  0                  0\n",
       "2024-01-04           -1                  0                  1\n",
       "2024-01-05            1                  0                  0\n",
       "2024-01-09            1                  1                  0\n",
       "...                 ...                ...                ...\n",
       "2024-06-07            1                  1                  0\n",
       "2024-06-11           -1                  0                  0\n",
       "2024-06-12           -1                  0                  1\n",
       "2024-06-13            1                  1                  0\n",
       "2024-06-14           -1                  0                  0\n",
       "\n",
       "[95 rows x 3 columns]"
      ]
     },
     "execution_count": 47,
     "metadata": {},
     "output_type": "execute_result"
    }
   ],
   "source": [
    "states_EURUSD = states_fn(EURUSD_prices)['2024-01-01':]\n",
    "states_EURUSD"
   ]
  },
  {
   "cell_type": "code",
   "execution_count": 48,
   "id": "61b987fb-2af5-4daa-ad1f-d41ae169d19a",
   "metadata": {},
   "outputs": [
    {
     "name": "stdout",
     "output_type": "stream",
     "text": [
      "Number of up days: 43\n",
      "Number of down days: 52\n"
     ]
    }
   ],
   "source": [
    "print('Number of up days:', sum(states_EURUSD['price_change'] == \"1\"))\n",
    "print('Number of down days:', sum(states_EURUSD['price_change'] == \"-1\"))"
   ]
  },
  {
   "cell_type": "code",
   "execution_count": 49,
   "id": "98032156-1b91-4fa2-a71f-9a29dc0ec7c4",
   "metadata": {},
   "outputs": [
    {
     "name": "stdout",
     "output_type": "stream",
     "text": [
      "up to up: 19\n",
      "up to down: 24\n",
      "down to up: 24\n",
      "down to down: 28\n"
     ]
    }
   ],
   "source": [
    "print('up to up:', sum(states_EURUSD['price_change'] == \"1\") - states_EURUSD['count_1_to_minus1'].sum())\n",
    "print('up to down:', states_EURUSD['count_1_to_minus1'].sum())\n",
    "print('down to up:', states_EURUSD['count_minus1_to_1'].sum())\n",
    "print('down to down:', sum(states_EURUSD['price_change'] == \"-1\") - states_EURUSD['count_minus1_to_1'].sum())"
   ]
  },
  {
   "cell_type": "code",
   "execution_count": 50,
   "id": "2f31513b-3200-4d0f-b574-f63a147f850c",
   "metadata": {},
   "outputs": [],
   "source": [
    "prob_up_to_up = (sum(states_EURUSD['price_change'] == \"1\") - states_EURUSD['count_1_to_minus1'].sum())/(sum(states_EURUSD['price_change'] == \"1\"))\n",
    "prob_up_to_down = (states_EURUSD['count_1_to_minus1'].sum())/(sum(states_EURUSD['price_change'] == \"1\"))\n",
    "prob_down_to_up = (states_EURUSD['count_minus1_to_1'].sum())/(sum(states_EURUSD['price_change'] == \"-1\"))\n",
    "prob_down_down = (sum(states_EURUSD['price_change'] == \"-1\") - states_EURUSD['count_minus1_to_1'].sum())/(sum(states_EURUSD['price_change'] == \"-1\"))"
   ]
  },
  {
   "cell_type": "code",
   "execution_count": 51,
   "id": "a2f8a1d2-f435-4809-a4bd-c8e32711d9e8",
   "metadata": {},
   "outputs": [],
   "source": [
    "# Define the transition matrix\n",
    "\n",
    "transition_matrix = np.array([\n",
    "    [prob_up_to_up, prob_up_to_down],\n",
    "    [prob_down_to_up, prob_down_down]])"
   ]
  },
  {
   "cell_type": "code",
   "execution_count": 52,
   "id": "7333ae54-7237-4025-b352-b381b5795765",
   "metadata": {},
   "outputs": [],
   "source": [
    "# Run the simulations\n",
    "\n",
    "all_simulations = replicate_simulations(transition_matrix, initial_state, steps, replications)"
   ]
  },
  {
   "cell_type": "code",
   "execution_count": 53,
   "id": "d16c242b-c32a-42d5-858c-2dacca723cc5",
   "metadata": {},
   "outputs": [],
   "source": [
    "# Analyze the results\n",
    "\n",
    "mean_state, median_state = analyze_simulations(all_simulations)"
   ]
  },
  {
   "cell_type": "markdown",
   "id": "749024e5-faf1-4ff7-b6a9-bf193b927af4",
   "metadata": {},
   "source": [
    "The result indicates that the price will continue going up for the next 5 periods."
   ]
  },
  {
   "cell_type": "code",
   "execution_count": 54,
   "id": "9a15ccb1-5a3b-4eea-954d-40f8d76c687b",
   "metadata": {},
   "outputs": [
    {
     "name": "stdout",
     "output_type": "stream",
     "text": [
      "Mean state for each step:\n",
      "0    0.0000\n",
      "1    0.5560\n",
      "2    0.5485\n",
      "3    0.5506\n",
      "4    0.5478\n",
      "5    0.5439\n",
      "dtype: float64\n",
      "\n",
      "Median state for each step:\n",
      "0    0.0\n",
      "1    1.0\n",
      "2    1.0\n",
      "3    1.0\n",
      "4    1.0\n",
      "5    1.0\n",
      "dtype: float64\n"
     ]
    }
   ],
   "source": [
    "print(\"Mean state for each step:\")\n",
    "print(mean_state)\n",
    "\n",
    "print(\"\\nMedian state for each step:\")\n",
    "print(median_state)"
   ]
  },
  {
   "cell_type": "code",
   "execution_count": 55,
   "id": "afb9e46c-cd56-4f7c-971c-a4ca4984539d",
   "metadata": {},
   "outputs": [
    {
     "data": {
      "image/png": "[encoded data removed]",
      "text/plain": [
       "<Figure size 640x480 with 1 Axes>"
      ]
     },
     "metadata": {},
     "output_type": "display_data"
    }
   ],
   "source": [
    "plt.plot(EURUSD_prices['EURUSD=X'].dropna()['2024-01-01':'2024-06-04'], color='blue')\n",
    "plt.plot(EURUSD_prices['EURUSD=X'].dropna()['2024-06-04':], color='red') \n",
    "plt.show() "
   ]
  },
  {
   "cell_type": "code",
   "execution_count": 56,
   "id": "3cfa7da1-c10d-41bb-a2e4-970e2c723601",
   "metadata": {},
   "outputs": [
    {
     "data": {
      "text/plain": [
       "Date\n",
       "2024-06-04    1.090739\n",
       "2024-06-05    1.088187\n",
       "2024-06-06    1.087453\n",
       "2024-06-07    1.089443\n",
       "2024-06-08         NaN\n",
       "2024-06-09         NaN\n",
       "2024-06-10    1.077888\n",
       "2024-06-11    1.076426\n",
       "2024-06-12    1.074033\n",
       "2024-06-13    1.081315\n",
       "2024-06-14    1.073883\n",
       "Name: EURUSD=X, dtype: float64"
      ]
     },
     "execution_count": 56,
     "metadata": {},
     "output_type": "execute_result"
    }
   ],
   "source": [
    "EURUSD_prices['EURUSD=X']['2024-06-04':]"
   ]
  }
 ],
 "metadata": {
  "kernelspec": {
   "display_name": "Python 3 (ipykernel)",
   "language": "python",
   "name": "python3"
  },
  "language_info": {
   "codemirror_mode": {
    "name": "ipython",
    "version": 3
   },
   "file_extension": ".py",
   "mimetype": "text/x-python",
   "name": "python",
   "nbconvert_exporter": "python",
   "pygments_lexer": "ipython3",
   "version": "3.9.13"
  }
 },
 "nbformat": 4,
 "nbformat_minor": 5
}
